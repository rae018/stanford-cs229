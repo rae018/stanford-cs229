{
 "cells": [
  {
   "cell_type": "code",
   "execution_count": 1,
   "metadata": {
    "scrolled": false
   },
   "outputs": [
    {
     "name": "stdout",
     "output_type": "stream",
     "text": [
      "Iteration 1, Update Size 1309.011333\n",
      "Iteration 2, Update Size nan\n",
      "DONE TRAINING\n",
      "Time: {:n} 0:00:00.003562\n"
     ]
    },
    {
     "name": "stderr",
     "output_type": "stream",
     "text": [
      "/Users/reed/stanford-cs229/stanford_cs229/modeling/softmax.py:41: RuntimeWarning: overflow encountered in exp\n",
      "  exp = np.exp(np.matmul(X, self.theta))\n",
      "/Users/reed/stanford-cs229/stanford_cs229/modeling/softmax.py:42: RuntimeWarning: invalid value encountered in true_divide\n",
      "  exp = exp / np.expand_dims(np.sum(exp, 1), 1)\n"
     ]
    }
   ],
   "source": [
    "from stanford_cs229.modeling.softmax import SoftmaxRegression\n",
    "from stanford_cs229.utils.util import load_our_data, plot\n",
    "from stanford_cs229.utils.csv_plotter_classifier import format_data\n",
    "import numpy as np\n",
    "\n",
    "softmax = SoftmaxRegression()\n",
    "\n",
    "X_tr = load_our_data('stanford_cs229/data/circles_overhand_weight-60.csv')\n",
    "Y_tr = format_data(X_tr)\n",
    "X_tr = X_tr[:,3:]\n",
    "softmax.train(X_tr, Y_tr, 3)"
   ]
  },
  {
   "cell_type": "code",
   "execution_count": 2,
   "metadata": {},
   "outputs": [
    {
     "name": "stdout",
     "output_type": "stream",
     "text": [
      "0.86\n"
     ]
    }
   ],
   "source": [
    "X_val, Y_val = load_dataset('stanford_cs229/data/ds2_valid.csv', add_intercept=True)\n",
    "Y_pred = softmax.predict(X_val)\n",
    "accuracy = np.sum(Y_val == Y_pred) / Y_val.shape[0]\n",
    "print(accuracy)"
   ]
  },
  {
   "cell_type": "code",
   "execution_count": null,
   "metadata": {},
   "outputs": [],
   "source": []
  }
 ],
 "metadata": {
  "kernelspec": {
   "display_name": "stanford_cs229",
   "language": "python",
   "name": "stanford_cs229"
  },
  "language_info": {
   "codemirror_mode": {
    "name": "ipython",
    "version": 3
   },
   "file_extension": ".py",
   "mimetype": "text/x-python",
   "name": "python",
   "nbconvert_exporter": "python",
   "pygments_lexer": "ipython3",
   "version": "3.7.4"
  }
 },
 "nbformat": 4,
 "nbformat_minor": 4
}
